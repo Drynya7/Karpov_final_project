{
 "cells": [
  {
   "cell_type": "code",
   "execution_count": 1,
   "metadata": {},
   "outputs": [],
   "source": [
    "import pandas as pd\n",
    "import numpy as np\n",
    "import seaborn as sns\n",
    "import matplotlib.pyplot as plt"
   ]
  },
  {
   "cell_type": "markdown",
   "metadata": {},
   "source": [
    "Задание 1. A/B–тестирование\n",
    "1.1 Условие\n",
    "\n",
    "Одной из основных задач аналитика в нашей команде является корректное проведение экспериментов. Для этого мы применяем метод A/B–тестирования. В ходе тестирования одной гипотезы целевой группе была предложена новая механика оплаты услуг на сайте, у контрольной группы оставалась базовая механика. В качестве задания Вам необходимо проанализировать итоги эксперимента и сделать вывод, стоит ли запускать новую механику оплаты на всех пользователей.\n",
    "\n",
    "1.2 Входные данные\n",
    "\n",
    "В качестве входных данных Вы имеете 4 csv-файла:\n",
    "\n",
    "groups.csv - файл с информацией о принадлежности пользователя к контрольной или экспериментальной группе (А – контроль, B – целевая группа) \n",
    "groups_add.csv - дополнительный файл с пользователями, который вам прислали спустя 2 дня после передачи данных\n",
    "active_studs.csv - файл с информацией о пользователях, которые зашли на платформу в дни проведения эксперимента. \n",
    "checks.csv - файл с информацией об оплатах пользователей в дни проведения эксперимента. \n",
    "\n",
    "1.3 Вопросы\n",
    "\n",
    "Предлагаем Вам ответить на следующие вопросы:\n",
    "\n",
    "На какие метрики Вы смотрите в ходе анализа и почему?\n",
    "\n",
    "Имеются ли различия в показателях и с чем они могут быть связаны?\n",
    "\n",
    "Являются ли эти различия статистически значимыми?\n",
    "\n",
    "Стоит ли запускать новую механику на всех пользователей?\n",
    "\n",
    "Данный список вопросов не является обязательным, и Вы можете при своём ответе опираться на собственный план.\n",
    "\n",
    "1.4 Требования к ответу\n",
    "\n",
    "При выполнении тестового задания необходимо использовать язык программирования Python. \n",
    "В файле обязательно должны быть комментарии к тем действиям, которые Вы выполняете с данными. \n",
    "Файл должен представлять собой законченный отчёт с выводами, сделанными в ходе исследования."
   ]
  },
  {
   "cell_type": "code",
   "execution_count": 2,
   "metadata": {},
   "outputs": [],
   "source": [
    "#загрузка данных\n",
    "groups = pd.read_csv('/mnt/HC_Volume_18315164/home-jupyter/jupyter-a-shevchenko-39/Doc/Проект_2_groups.csv', sep = ';')"
   ]
  },
  {
   "cell_type": "code",
   "execution_count": 3,
   "metadata": {},
   "outputs": [
    {
     "data": {
      "text/html": [
       "<div>\n",
       "<style scoped>\n",
       "    .dataframe tbody tr th:only-of-type {\n",
       "        vertical-align: middle;\n",
       "    }\n",
       "\n",
       "    .dataframe tbody tr th {\n",
       "        vertical-align: top;\n",
       "    }\n",
       "\n",
       "    .dataframe thead th {\n",
       "        text-align: right;\n",
       "    }\n",
       "</style>\n",
       "<table border=\"1\" class=\"dataframe\">\n",
       "  <thead>\n",
       "    <tr style=\"text-align: right;\">\n",
       "      <th></th>\n",
       "      <th>id</th>\n",
       "      <th>grp</th>\n",
       "    </tr>\n",
       "  </thead>\n",
       "  <tbody>\n",
       "    <tr>\n",
       "      <th>0</th>\n",
       "      <td>1489</td>\n",
       "      <td>B</td>\n",
       "    </tr>\n",
       "    <tr>\n",
       "      <th>1</th>\n",
       "      <td>1627</td>\n",
       "      <td>A</td>\n",
       "    </tr>\n",
       "    <tr>\n",
       "      <th>2</th>\n",
       "      <td>1768</td>\n",
       "      <td>B</td>\n",
       "    </tr>\n",
       "    <tr>\n",
       "      <th>3</th>\n",
       "      <td>1783</td>\n",
       "      <td>B</td>\n",
       "    </tr>\n",
       "    <tr>\n",
       "      <th>4</th>\n",
       "      <td>1794</td>\n",
       "      <td>A</td>\n",
       "    </tr>\n",
       "    <tr>\n",
       "      <th>...</th>\n",
       "      <td>...</td>\n",
       "      <td>...</td>\n",
       "    </tr>\n",
       "    <tr>\n",
       "      <th>74479</th>\n",
       "      <td>5692459</td>\n",
       "      <td>B</td>\n",
       "    </tr>\n",
       "    <tr>\n",
       "      <th>74480</th>\n",
       "      <td>5692572</td>\n",
       "      <td>B</td>\n",
       "    </tr>\n",
       "    <tr>\n",
       "      <th>74481</th>\n",
       "      <td>5692865</td>\n",
       "      <td>B</td>\n",
       "    </tr>\n",
       "    <tr>\n",
       "      <th>74482</th>\n",
       "      <td>5693667</td>\n",
       "      <td>B</td>\n",
       "    </tr>\n",
       "    <tr>\n",
       "      <th>74483</th>\n",
       "      <td>5694419</td>\n",
       "      <td>B</td>\n",
       "    </tr>\n",
       "  </tbody>\n",
       "</table>\n",
       "<p>74484 rows × 2 columns</p>\n",
       "</div>"
      ],
      "text/plain": [
       "            id grp\n",
       "0         1489   B\n",
       "1         1627   A\n",
       "2         1768   B\n",
       "3         1783   B\n",
       "4         1794   A\n",
       "...        ...  ..\n",
       "74479  5692459   B\n",
       "74480  5692572   B\n",
       "74481  5692865   B\n",
       "74482  5693667   B\n",
       "74483  5694419   B\n",
       "\n",
       "[74484 rows x 2 columns]"
      ]
     },
     "execution_count": 3,
     "metadata": {},
     "output_type": "execute_result"
    }
   ],
   "source": [
    "#первично полученные данные о пользователи и его группе \n",
    "groups"
   ]
  },
  {
   "cell_type": "code",
   "execution_count": 4,
   "metadata": {},
   "outputs": [
    {
     "data": {
      "text/plain": [
       "id     74484\n",
       "grp        2\n",
       "dtype: int64"
      ]
     },
     "execution_count": 4,
     "metadata": {},
     "output_type": "execute_result"
    }
   ],
   "source": [
    "# проверка на повторы\n",
    "groups.nunique()"
   ]
  },
  {
   "cell_type": "code",
   "execution_count": 5,
   "metadata": {},
   "outputs": [],
   "source": [
    "# загрузим дополнительные данные\n",
    "groups_add = pd.read_csv('/mnt/HC_Volume_18315164/home-jupyter/jupyter-a-shevchenko-39/Doc/Проект_2_group_add.csv', sep = ',')"
   ]
  },
  {
   "cell_type": "code",
   "execution_count": 6,
   "metadata": {},
   "outputs": [
    {
     "data": {
      "text/html": [
       "<div>\n",
       "<style scoped>\n",
       "    .dataframe tbody tr th:only-of-type {\n",
       "        vertical-align: middle;\n",
       "    }\n",
       "\n",
       "    .dataframe tbody tr th {\n",
       "        vertical-align: top;\n",
       "    }\n",
       "\n",
       "    .dataframe thead th {\n",
       "        text-align: right;\n",
       "    }\n",
       "</style>\n",
       "<table border=\"1\" class=\"dataframe\">\n",
       "  <thead>\n",
       "    <tr style=\"text-align: right;\">\n",
       "      <th></th>\n",
       "      <th>id</th>\n",
       "      <th>grp</th>\n",
       "    </tr>\n",
       "  </thead>\n",
       "  <tbody>\n",
       "    <tr>\n",
       "      <th>0</th>\n",
       "      <td>5694584</td>\n",
       "      <td>B</td>\n",
       "    </tr>\n",
       "    <tr>\n",
       "      <th>1</th>\n",
       "      <td>5694830</td>\n",
       "      <td>B</td>\n",
       "    </tr>\n",
       "    <tr>\n",
       "      <th>2</th>\n",
       "      <td>5695057</td>\n",
       "      <td>B</td>\n",
       "    </tr>\n",
       "    <tr>\n",
       "      <th>3</th>\n",
       "      <td>5698872</td>\n",
       "      <td>B</td>\n",
       "    </tr>\n",
       "    <tr>\n",
       "      <th>4</th>\n",
       "      <td>5699067</td>\n",
       "      <td>B</td>\n",
       "    </tr>\n",
       "    <tr>\n",
       "      <th>...</th>\n",
       "      <td>...</td>\n",
       "      <td>...</td>\n",
       "    </tr>\n",
       "    <tr>\n",
       "      <th>87</th>\n",
       "      <td>200247820</td>\n",
       "      <td>B</td>\n",
       "    </tr>\n",
       "    <tr>\n",
       "      <th>88</th>\n",
       "      <td>201032527</td>\n",
       "      <td>B</td>\n",
       "    </tr>\n",
       "    <tr>\n",
       "      <th>89</th>\n",
       "      <td>201067612</td>\n",
       "      <td>B</td>\n",
       "    </tr>\n",
       "    <tr>\n",
       "      <th>90</th>\n",
       "      <td>201067653</td>\n",
       "      <td>B</td>\n",
       "    </tr>\n",
       "    <tr>\n",
       "      <th>91</th>\n",
       "      <td>201067659</td>\n",
       "      <td>B</td>\n",
       "    </tr>\n",
       "  </tbody>\n",
       "</table>\n",
       "<p>92 rows × 2 columns</p>\n",
       "</div>"
      ],
      "text/plain": [
       "           id grp\n",
       "0     5694584   B\n",
       "1     5694830   B\n",
       "2     5695057   B\n",
       "3     5698872   B\n",
       "4     5699067   B\n",
       "..        ...  ..\n",
       "87  200247820   B\n",
       "88  201032527   B\n",
       "89  201067612   B\n",
       "90  201067653   B\n",
       "91  201067659   B\n",
       "\n",
       "[92 rows x 2 columns]"
      ]
     },
     "execution_count": 6,
     "metadata": {},
     "output_type": "execute_result"
    }
   ],
   "source": [
    "# добавленные после начала эксперимента пользователи в группы\n",
    "groups_add"
   ]
  },
  {
   "cell_type": "code",
   "execution_count": 7,
   "metadata": {},
   "outputs": [
    {
     "data": {
      "text/plain": [
       "id     92\n",
       "grp     2\n",
       "dtype: int64"
      ]
     },
     "execution_count": 7,
     "metadata": {},
     "output_type": "execute_result"
    }
   ],
   "source": [
    "# проверка на повторы\n",
    "groups_add.nunique()"
   ]
  },
  {
   "cell_type": "code",
   "execution_count": 8,
   "metadata": {},
   "outputs": [],
   "source": [
    "# Загрузка данных об активных пользователей\n",
    "active_studs = pd.read_csv('/mnt/HC_Volume_18315164/home-jupyter/jupyter-a-shevchenko-39/Doc/Проект_2_active_studs.csv')"
   ]
  },
  {
   "cell_type": "code",
   "execution_count": 9,
   "metadata": {},
   "outputs": [
    {
     "data": {
      "text/html": [
       "<div>\n",
       "<style scoped>\n",
       "    .dataframe tbody tr th:only-of-type {\n",
       "        vertical-align: middle;\n",
       "    }\n",
       "\n",
       "    .dataframe tbody tr th {\n",
       "        vertical-align: top;\n",
       "    }\n",
       "\n",
       "    .dataframe thead th {\n",
       "        text-align: right;\n",
       "    }\n",
       "</style>\n",
       "<table border=\"1\" class=\"dataframe\">\n",
       "  <thead>\n",
       "    <tr style=\"text-align: right;\">\n",
       "      <th></th>\n",
       "      <th>student_id</th>\n",
       "    </tr>\n",
       "  </thead>\n",
       "  <tbody>\n",
       "    <tr>\n",
       "      <th>0</th>\n",
       "      <td>581585</td>\n",
       "    </tr>\n",
       "    <tr>\n",
       "      <th>1</th>\n",
       "      <td>5723133</td>\n",
       "    </tr>\n",
       "    <tr>\n",
       "      <th>2</th>\n",
       "      <td>3276743</td>\n",
       "    </tr>\n",
       "    <tr>\n",
       "      <th>3</th>\n",
       "      <td>4238589</td>\n",
       "    </tr>\n",
       "    <tr>\n",
       "      <th>4</th>\n",
       "      <td>4475369</td>\n",
       "    </tr>\n",
       "    <tr>\n",
       "      <th>...</th>\n",
       "      <td>...</td>\n",
       "    </tr>\n",
       "    <tr>\n",
       "      <th>8336</th>\n",
       "      <td>1794344</td>\n",
       "    </tr>\n",
       "    <tr>\n",
       "      <th>8337</th>\n",
       "      <td>296883</td>\n",
       "    </tr>\n",
       "    <tr>\n",
       "      <th>8338</th>\n",
       "      <td>3598448</td>\n",
       "    </tr>\n",
       "    <tr>\n",
       "      <th>8339</th>\n",
       "      <td>3610547</td>\n",
       "    </tr>\n",
       "    <tr>\n",
       "      <th>8340</th>\n",
       "      <td>205705</td>\n",
       "    </tr>\n",
       "  </tbody>\n",
       "</table>\n",
       "<p>8341 rows × 1 columns</p>\n",
       "</div>"
      ],
      "text/plain": [
       "      student_id\n",
       "0         581585\n",
       "1        5723133\n",
       "2        3276743\n",
       "3        4238589\n",
       "4        4475369\n",
       "...          ...\n",
       "8336     1794344\n",
       "8337      296883\n",
       "8338     3598448\n",
       "8339     3610547\n",
       "8340      205705\n",
       "\n",
       "[8341 rows x 1 columns]"
      ]
     },
     "execution_count": 9,
     "metadata": {},
     "output_type": "execute_result"
    }
   ],
   "source": [
    "# пользователи, которые перешли в состояние активных\n",
    "active_studs"
   ]
  },
  {
   "cell_type": "code",
   "execution_count": 10,
   "metadata": {},
   "outputs": [
    {
     "data": {
      "text/plain": [
       "student_id    8341\n",
       "dtype: int64"
      ]
     },
     "execution_count": 10,
     "metadata": {},
     "output_type": "execute_result"
    }
   ],
   "source": [
    "# проверка на повторы\n",
    "active_studs.nunique()"
   ]
  },
  {
   "cell_type": "code",
   "execution_count": 11,
   "metadata": {},
   "outputs": [],
   "source": [
    "# переименнуем для удобства\n",
    "active_studs = active_studs.rename(columns={'student_id':'id'}) # переименнуем для удобства"
   ]
  },
  {
   "cell_type": "code",
   "execution_count": 12,
   "metadata": {},
   "outputs": [],
   "source": [
    "# загрузим данные о прибыли с клиента\n",
    "checks = pd.read_csv('/mnt/HC_Volume_18315164/home-jupyter/jupyter-a-shevchenko-39/Doc/Проект_2_checks.csv', sep = ';')"
   ]
  },
  {
   "cell_type": "code",
   "execution_count": 13,
   "metadata": {},
   "outputs": [
    {
     "data": {
      "text/html": [
       "<div>\n",
       "<style scoped>\n",
       "    .dataframe tbody tr th:only-of-type {\n",
       "        vertical-align: middle;\n",
       "    }\n",
       "\n",
       "    .dataframe tbody tr th {\n",
       "        vertical-align: top;\n",
       "    }\n",
       "\n",
       "    .dataframe thead th {\n",
       "        text-align: right;\n",
       "    }\n",
       "</style>\n",
       "<table border=\"1\" class=\"dataframe\">\n",
       "  <thead>\n",
       "    <tr style=\"text-align: right;\">\n",
       "      <th></th>\n",
       "      <th>student_id</th>\n",
       "      <th>rev</th>\n",
       "    </tr>\n",
       "  </thead>\n",
       "  <tbody>\n",
       "    <tr>\n",
       "      <th>0</th>\n",
       "      <td>1627</td>\n",
       "      <td>990.0</td>\n",
       "    </tr>\n",
       "    <tr>\n",
       "      <th>1</th>\n",
       "      <td>3185</td>\n",
       "      <td>690.0</td>\n",
       "    </tr>\n",
       "    <tr>\n",
       "      <th>2</th>\n",
       "      <td>25973</td>\n",
       "      <td>690.0</td>\n",
       "    </tr>\n",
       "    <tr>\n",
       "      <th>3</th>\n",
       "      <td>26280</td>\n",
       "      <td>690.0</td>\n",
       "    </tr>\n",
       "    <tr>\n",
       "      <th>4</th>\n",
       "      <td>100300</td>\n",
       "      <td>990.0</td>\n",
       "    </tr>\n",
       "    <tr>\n",
       "      <th>...</th>\n",
       "      <td>...</td>\n",
       "      <td>...</td>\n",
       "    </tr>\n",
       "    <tr>\n",
       "      <th>536</th>\n",
       "      <td>5645737</td>\n",
       "      <td>1900.0</td>\n",
       "    </tr>\n",
       "    <tr>\n",
       "      <th>537</th>\n",
       "      <td>5651566</td>\n",
       "      <td>1900.0</td>\n",
       "    </tr>\n",
       "    <tr>\n",
       "      <th>538</th>\n",
       "      <td>5662322</td>\n",
       "      <td>1900.0</td>\n",
       "    </tr>\n",
       "    <tr>\n",
       "      <th>539</th>\n",
       "      <td>5681918</td>\n",
       "      <td>1900.0</td>\n",
       "    </tr>\n",
       "    <tr>\n",
       "      <th>540</th>\n",
       "      <td>5740903</td>\n",
       "      <td>1900.0</td>\n",
       "    </tr>\n",
       "  </tbody>\n",
       "</table>\n",
       "<p>541 rows × 2 columns</p>\n",
       "</div>"
      ],
      "text/plain": [
       "     student_id     rev\n",
       "0          1627   990.0\n",
       "1          3185   690.0\n",
       "2         25973   690.0\n",
       "3         26280   690.0\n",
       "4        100300   990.0\n",
       "..          ...     ...\n",
       "536     5645737  1900.0\n",
       "537     5651566  1900.0\n",
       "538     5662322  1900.0\n",
       "539     5681918  1900.0\n",
       "540     5740903  1900.0\n",
       "\n",
       "[541 rows x 2 columns]"
      ]
     },
     "execution_count": 13,
     "metadata": {},
     "output_type": "execute_result"
    }
   ],
   "source": [
    "# активные пользователи, которые перешли в состояние клиентов\n",
    "checks"
   ]
  },
  {
   "cell_type": "code",
   "execution_count": 14,
   "metadata": {},
   "outputs": [
    {
     "data": {
      "text/plain": [
       "student_id    541\n",
       "rev            39\n",
       "dtype: int64"
      ]
     },
     "execution_count": 14,
     "metadata": {},
     "output_type": "execute_result"
    }
   ],
   "source": [
    "# проверка на повторы\n",
    "checks.nunique()"
   ]
  },
  {
   "cell_type": "code",
   "execution_count": 15,
   "metadata": {},
   "outputs": [],
   "source": [
    "# переименнуем для удобства\n",
    "checks = checks.rename(columns={'student_id':'id'})"
   ]
  },
  {
   "cell_type": "markdown",
   "metadata": {},
   "source": [
    "Используемые метрики:\n",
    "\n",
    "1) Конверсия из неактивных пользователей в активных (CRna)\n",
    "\n",
    "При влиянии данной метрики на статистическую значимость можно судить, что есть третий факт, который влияет на выборки.\n",
    "Этот вывод можно сделать потому что данная метрика не должна была измениться в новой механике\n",
    "\n",
    "2) Конверсия активных пользователей в клиента (CRac)\n",
    "\n",
    "3) Средний доход на клиента (ARPPU)\n"
   ]
  },
  {
   "cell_type": "code",
   "execution_count": 16,
   "metadata": {},
   "outputs": [],
   "source": [
    "# объединение двух групп (в последущуем будут изучать первичная группа и расширенная группа)\n",
    "groups_big = pd.concat([groups,groups_add])"
   ]
  },
  {
   "cell_type": "code",
   "execution_count": 17,
   "metadata": {},
   "outputs": [
    {
     "data": {
      "text/html": [
       "<div>\n",
       "<style scoped>\n",
       "    .dataframe tbody tr th:only-of-type {\n",
       "        vertical-align: middle;\n",
       "    }\n",
       "\n",
       "    .dataframe tbody tr th {\n",
       "        vertical-align: top;\n",
       "    }\n",
       "\n",
       "    .dataframe thead th {\n",
       "        text-align: right;\n",
       "    }\n",
       "</style>\n",
       "<table border=\"1\" class=\"dataframe\">\n",
       "  <thead>\n",
       "    <tr style=\"text-align: right;\">\n",
       "      <th></th>\n",
       "      <th>id</th>\n",
       "      <th>grp</th>\n",
       "    </tr>\n",
       "  </thead>\n",
       "  <tbody>\n",
       "    <tr>\n",
       "      <th>0</th>\n",
       "      <td>1489</td>\n",
       "      <td>B</td>\n",
       "    </tr>\n",
       "    <tr>\n",
       "      <th>1</th>\n",
       "      <td>1627</td>\n",
       "      <td>A</td>\n",
       "    </tr>\n",
       "    <tr>\n",
       "      <th>2</th>\n",
       "      <td>1768</td>\n",
       "      <td>B</td>\n",
       "    </tr>\n",
       "    <tr>\n",
       "      <th>3</th>\n",
       "      <td>1783</td>\n",
       "      <td>B</td>\n",
       "    </tr>\n",
       "    <tr>\n",
       "      <th>4</th>\n",
       "      <td>1794</td>\n",
       "      <td>A</td>\n",
       "    </tr>\n",
       "    <tr>\n",
       "      <th>...</th>\n",
       "      <td>...</td>\n",
       "      <td>...</td>\n",
       "    </tr>\n",
       "    <tr>\n",
       "      <th>87</th>\n",
       "      <td>200247820</td>\n",
       "      <td>B</td>\n",
       "    </tr>\n",
       "    <tr>\n",
       "      <th>88</th>\n",
       "      <td>201032527</td>\n",
       "      <td>B</td>\n",
       "    </tr>\n",
       "    <tr>\n",
       "      <th>89</th>\n",
       "      <td>201067612</td>\n",
       "      <td>B</td>\n",
       "    </tr>\n",
       "    <tr>\n",
       "      <th>90</th>\n",
       "      <td>201067653</td>\n",
       "      <td>B</td>\n",
       "    </tr>\n",
       "    <tr>\n",
       "      <th>91</th>\n",
       "      <td>201067659</td>\n",
       "      <td>B</td>\n",
       "    </tr>\n",
       "  </tbody>\n",
       "</table>\n",
       "<p>74576 rows × 2 columns</p>\n",
       "</div>"
      ],
      "text/plain": [
       "           id grp\n",
       "0        1489   B\n",
       "1        1627   A\n",
       "2        1768   B\n",
       "3        1783   B\n",
       "4        1794   A\n",
       "..        ...  ..\n",
       "87  200247820   B\n",
       "88  201032527   B\n",
       "89  201067612   B\n",
       "90  201067653   B\n",
       "91  201067659   B\n",
       "\n",
       "[74576 rows x 2 columns]"
      ]
     },
     "execution_count": 17,
     "metadata": {},
     "output_type": "execute_result"
    }
   ],
   "source": [
    "groups_big"
   ]
  },
  {
   "cell_type": "code",
   "execution_count": 18,
   "metadata": {},
   "outputs": [
    {
     "data": {
      "text/plain": [
       "id     74576\n",
       "grp        2\n",
       "dtype: int64"
      ]
     },
     "execution_count": 18,
     "metadata": {},
     "output_type": "execute_result"
    }
   ],
   "source": [
    "# проверка на появление повторов\n",
    "groups_big.nunique()"
   ]
  },
  {
   "cell_type": "markdown",
   "metadata": {},
   "source": [
    "Сначала проведем исследование расширенной группы"
   ]
  },
  {
   "cell_type": "code",
   "execution_count": 19,
   "metadata": {},
   "outputs": [],
   "source": [
    "# определим для активного пользователя группу\n",
    "groups_big_active = pd.merge(active_studs,groups_big, on = 'id')"
   ]
  },
  {
   "cell_type": "code",
   "execution_count": 20,
   "metadata": {},
   "outputs": [
    {
     "data": {
      "text/html": [
       "<div>\n",
       "<style scoped>\n",
       "    .dataframe tbody tr th:only-of-type {\n",
       "        vertical-align: middle;\n",
       "    }\n",
       "\n",
       "    .dataframe tbody tr th {\n",
       "        vertical-align: top;\n",
       "    }\n",
       "\n",
       "    .dataframe thead th {\n",
       "        text-align: right;\n",
       "    }\n",
       "</style>\n",
       "<table border=\"1\" class=\"dataframe\">\n",
       "  <thead>\n",
       "    <tr style=\"text-align: right;\">\n",
       "      <th></th>\n",
       "      <th>id</th>\n",
       "      <th>grp</th>\n",
       "    </tr>\n",
       "  </thead>\n",
       "  <tbody>\n",
       "    <tr>\n",
       "      <th>0</th>\n",
       "      <td>581585</td>\n",
       "      <td>A</td>\n",
       "    </tr>\n",
       "    <tr>\n",
       "      <th>1</th>\n",
       "      <td>5723133</td>\n",
       "      <td>A</td>\n",
       "    </tr>\n",
       "    <tr>\n",
       "      <th>2</th>\n",
       "      <td>3276743</td>\n",
       "      <td>B</td>\n",
       "    </tr>\n",
       "    <tr>\n",
       "      <th>3</th>\n",
       "      <td>4238589</td>\n",
       "      <td>A</td>\n",
       "    </tr>\n",
       "    <tr>\n",
       "      <th>4</th>\n",
       "      <td>4475369</td>\n",
       "      <td>B</td>\n",
       "    </tr>\n",
       "    <tr>\n",
       "      <th>...</th>\n",
       "      <td>...</td>\n",
       "      <td>...</td>\n",
       "    </tr>\n",
       "    <tr>\n",
       "      <th>8336</th>\n",
       "      <td>1794344</td>\n",
       "      <td>B</td>\n",
       "    </tr>\n",
       "    <tr>\n",
       "      <th>8337</th>\n",
       "      <td>296883</td>\n",
       "      <td>B</td>\n",
       "    </tr>\n",
       "    <tr>\n",
       "      <th>8338</th>\n",
       "      <td>3598448</td>\n",
       "      <td>B</td>\n",
       "    </tr>\n",
       "    <tr>\n",
       "      <th>8339</th>\n",
       "      <td>3610547</td>\n",
       "      <td>B</td>\n",
       "    </tr>\n",
       "    <tr>\n",
       "      <th>8340</th>\n",
       "      <td>205705</td>\n",
       "      <td>B</td>\n",
       "    </tr>\n",
       "  </tbody>\n",
       "</table>\n",
       "<p>8341 rows × 2 columns</p>\n",
       "</div>"
      ],
      "text/plain": [
       "           id grp\n",
       "0      581585   A\n",
       "1     5723133   A\n",
       "2     3276743   B\n",
       "3     4238589   A\n",
       "4     4475369   B\n",
       "...       ...  ..\n",
       "8336  1794344   B\n",
       "8337   296883   B\n",
       "8338  3598448   B\n",
       "8339  3610547   B\n",
       "8340   205705   B\n",
       "\n",
       "[8341 rows x 2 columns]"
      ]
     },
     "execution_count": 20,
     "metadata": {},
     "output_type": "execute_result"
    }
   ],
   "source": [
    "groups_big_active"
   ]
  },
  {
   "cell_type": "code",
   "execution_count": 21,
   "metadata": {},
   "outputs": [
    {
     "data": {
      "text/plain": [
       "id     0\n",
       "grp    0\n",
       "dtype: int64"
      ]
     },
     "execution_count": 21,
     "metadata": {},
     "output_type": "execute_result"
    }
   ],
   "source": [
    "# проверим на появление нулевых данных\n",
    "groups_big_active.isnull().sum()"
   ]
  },
  {
   "cell_type": "code",
   "execution_count": 22,
   "metadata": {},
   "outputs": [],
   "source": [
    "# определим для активного пользователя его прибыль\n",
    "groups_big_active_checks = pd.merge(groups_big_active,checks, on = 'id')"
   ]
  },
  {
   "cell_type": "code",
   "execution_count": 23,
   "metadata": {},
   "outputs": [
    {
     "data": {
      "text/html": [
       "<div>\n",
       "<style scoped>\n",
       "    .dataframe tbody tr th:only-of-type {\n",
       "        vertical-align: middle;\n",
       "    }\n",
       "\n",
       "    .dataframe tbody tr th {\n",
       "        vertical-align: top;\n",
       "    }\n",
       "\n",
       "    .dataframe thead th {\n",
       "        text-align: right;\n",
       "    }\n",
       "</style>\n",
       "<table border=\"1\" class=\"dataframe\">\n",
       "  <thead>\n",
       "    <tr style=\"text-align: right;\">\n",
       "      <th></th>\n",
       "      <th>id</th>\n",
       "      <th>grp</th>\n",
       "      <th>rev</th>\n",
       "    </tr>\n",
       "  </thead>\n",
       "  <tbody>\n",
       "    <tr>\n",
       "      <th>0</th>\n",
       "      <td>1184303</td>\n",
       "      <td>A</td>\n",
       "      <td>1530.0000</td>\n",
       "    </tr>\n",
       "    <tr>\n",
       "      <th>1</th>\n",
       "      <td>3354191</td>\n",
       "      <td>B</td>\n",
       "      <td>1900.0001</td>\n",
       "    </tr>\n",
       "    <tr>\n",
       "      <th>2</th>\n",
       "      <td>3278734</td>\n",
       "      <td>B</td>\n",
       "      <td>1900.0000</td>\n",
       "    </tr>\n",
       "    <tr>\n",
       "      <th>3</th>\n",
       "      <td>720651</td>\n",
       "      <td>A</td>\n",
       "      <td>1980.0000</td>\n",
       "    </tr>\n",
       "    <tr>\n",
       "      <th>4</th>\n",
       "      <td>1232221</td>\n",
       "      <td>B</td>\n",
       "      <td>1900.0000</td>\n",
       "    </tr>\n",
       "    <tr>\n",
       "      <th>...</th>\n",
       "      <td>...</td>\n",
       "      <td>...</td>\n",
       "      <td>...</td>\n",
       "    </tr>\n",
       "    <tr>\n",
       "      <th>387</th>\n",
       "      <td>3890326</td>\n",
       "      <td>B</td>\n",
       "      <td>199.0000</td>\n",
       "    </tr>\n",
       "    <tr>\n",
       "      <th>388</th>\n",
       "      <td>1390994</td>\n",
       "      <td>A</td>\n",
       "      <td>398.0000</td>\n",
       "    </tr>\n",
       "    <tr>\n",
       "      <th>389</th>\n",
       "      <td>1516339</td>\n",
       "      <td>A</td>\n",
       "      <td>290.0000</td>\n",
       "    </tr>\n",
       "    <tr>\n",
       "      <th>390</th>\n",
       "      <td>3910596</td>\n",
       "      <td>B</td>\n",
       "      <td>597.0000</td>\n",
       "    </tr>\n",
       "    <tr>\n",
       "      <th>391</th>\n",
       "      <td>3610547</td>\n",
       "      <td>B</td>\n",
       "      <td>290.0000</td>\n",
       "    </tr>\n",
       "  </tbody>\n",
       "</table>\n",
       "<p>392 rows × 3 columns</p>\n",
       "</div>"
      ],
      "text/plain": [
       "          id grp        rev\n",
       "0    1184303   A  1530.0000\n",
       "1    3354191   B  1900.0001\n",
       "2    3278734   B  1900.0000\n",
       "3     720651   A  1980.0000\n",
       "4    1232221   B  1900.0000\n",
       "..       ...  ..        ...\n",
       "387  3890326   B   199.0000\n",
       "388  1390994   A   398.0000\n",
       "389  1516339   A   290.0000\n",
       "390  3910596   B   597.0000\n",
       "391  3610547   B   290.0000\n",
       "\n",
       "[392 rows x 3 columns]"
      ]
     },
     "execution_count": 23,
     "metadata": {},
     "output_type": "execute_result"
    }
   ],
   "source": [
    "groups_big_active_checks"
   ]
  },
  {
   "cell_type": "code",
   "execution_count": 24,
   "metadata": {},
   "outputs": [
    {
     "data": {
      "text/plain": [
       "id     0\n",
       "grp    0\n",
       "rev    0\n",
       "dtype: int64"
      ]
     },
     "execution_count": 24,
     "metadata": {},
     "output_type": "execute_result"
    }
   ],
   "source": [
    "# проверим на появление нулевых данных\n",
    "groups_big_active_checks.isnull().sum() "
   ]
  },
  {
   "cell_type": "code",
   "execution_count": 25,
   "metadata": {},
   "outputs": [],
   "source": [
    "#датафрейм для статистических данных, введем ARPPU\n",
    "df_gr = groups_big_active_checks.groupby('grp',as_index=False).agg({'rev':'mean'}).rename(columns={'rev':'ARPPU'})\n",
    "\n",
    "# добавим метрику CRna\n",
    "df_na = (groups_big_active.groupby('grp').agg({'id':'count'}) / groups_big.groupby('grp').agg({'id':'count'})).reset_index().rename(columns={'id':'Cr_na'})\n",
    "df_gr = pd.merge(df_gr,df_na,on = 'grp')\n",
    "\n",
    "# добавим метрику CRac\n",
    "df_ac = (groups_big_active_checks.groupby('grp').agg({'id':'count'}) / groups_big_active.groupby('grp').agg({'id':'count'})).reset_index().rename(columns={'id':'Cr_ac'})\n",
    "df_gr = pd.merge(df_gr,df_ac,on = 'grp')"
   ]
  },
  {
   "cell_type": "code",
   "execution_count": 26,
   "metadata": {},
   "outputs": [
    {
     "data": {
      "text/html": [
       "<div>\n",
       "<style scoped>\n",
       "    .dataframe tbody tr th:only-of-type {\n",
       "        vertical-align: middle;\n",
       "    }\n",
       "\n",
       "    .dataframe tbody tr th {\n",
       "        vertical-align: top;\n",
       "    }\n",
       "\n",
       "    .dataframe thead th {\n",
       "        text-align: right;\n",
       "    }\n",
       "</style>\n",
       "<table border=\"1\" class=\"dataframe\">\n",
       "  <thead>\n",
       "    <tr style=\"text-align: right;\">\n",
       "      <th></th>\n",
       "      <th>grp</th>\n",
       "      <th>ARPPU</th>\n",
       "      <th>Cr_na</th>\n",
       "      <th>Cr_ac</th>\n",
       "    </tr>\n",
       "  </thead>\n",
       "  <tbody>\n",
       "    <tr>\n",
       "      <th>0</th>\n",
       "      <td>A</td>\n",
       "      <td>933.589744</td>\n",
       "      <td>0.104676</td>\n",
       "      <td>0.050715</td>\n",
       "    </tr>\n",
       "    <tr>\n",
       "      <th>1</th>\n",
       "      <td>B</td>\n",
       "      <td>1257.878992</td>\n",
       "      <td>0.113605</td>\n",
       "      <td>0.046156</td>\n",
       "    </tr>\n",
       "  </tbody>\n",
       "</table>\n",
       "</div>"
      ],
      "text/plain": [
       "  grp        ARPPU     Cr_na     Cr_ac\n",
       "0   A   933.589744  0.104676  0.050715\n",
       "1   B  1257.878992  0.113605  0.046156"
      ]
     },
     "execution_count": 26,
     "metadata": {},
     "output_type": "execute_result"
    }
   ],
   "source": [
    "df_gr"
   ]
  },
  {
   "cell_type": "markdown",
   "metadata": {},
   "source": [
    "Проведем исследования данных"
   ]
  },
  {
   "cell_type": "code",
   "execution_count": 27,
   "metadata": {},
   "outputs": [
    {
     "data": {
      "text/plain": [
       "<seaborn.axisgrid.FacetGrid at 0x7f224b8ec978>"
      ]
     },
     "execution_count": 27,
     "metadata": {},
     "output_type": "execute_result"
    },
    {
     "data": {
      "image/png": "[encoded data removed]",
      "text/plain": [
       "<Figure size 360x360 with 1 Axes>"
      ]
     },
     "metadata": {
      "needs_background": "light"
     },
     "output_type": "display_data"
    }
   ],
   "source": [
    "# посмотрим сколько людей в группе А и В\n",
    "sns.displot(groups_big_active_checks.grp)"
   ]
  },
  {
   "cell_type": "code",
   "execution_count": 28,
   "metadata": {},
   "outputs": [
    {
     "data": {
      "text/plain": [
       "<seaborn.axisgrid.FacetGrid at 0x7f22497d02b0>"
      ]
     },
     "execution_count": 28,
     "metadata": {},
     "output_type": "execute_result"
    },
    {
     "data": {
      "image/png": "[encoded data removed]",
      "text/plain": [
       "<Figure size 402.875x360 with 1 Axes>"
      ]
     },
     "metadata": {
      "needs_background": "light"
     },
     "output_type": "display_data"
    }
   ],
   "source": [
    "# посмотрим распределение прибыли\n",
    "sns.displot(data=groups_big_active_checks, x=\"rev\", hue=\"grp\")"
   ]
  },
  {
   "cell_type": "code",
   "execution_count": 29,
   "metadata": {},
   "outputs": [
    {
     "data": {
      "text/plain": [
       "<matplotlib.axes._subplots.AxesSubplot at 0x7f22492bc080>"
      ]
     },
     "execution_count": 29,
     "metadata": {},
     "output_type": "execute_result"
    },
    {
     "data": {
      "image/png": "[encoded data removed]",
      "text/plain": [
       "<Figure size 432x288 with 1 Axes>"
      ]
     },
     "metadata": {
      "needs_background": "light"
     },
     "output_type": "display_data"
    }
   ],
   "source": [
    "# глянем выбросы данных\n",
    "sns.boxplot(data=groups_big_active_checks, y=\"rev\", x=\"grp\")"
   ]
  },
  {
   "cell_type": "markdown",
   "metadata": {},
   "source": [
    "Проверим распределение на нормальность"
   ]
  },
  {
   "cell_type": "code",
   "execution_count": 30,
   "metadata": {},
   "outputs": [
    {
     "name": "stdout",
     "output_type": "stream",
     "text": [
      "st =  [30.37841964]\n",
      "p =  [2.53168688e-07]\n",
      "Данные не имеют нормальное распределение для группы A\n",
      "Данные не имеют нормальное распределение для группы B\n"
     ]
    }
   ],
   "source": [
    "import scipy.stats as stats\n",
    "\n",
    "# сделаем датафреймы с группами, где будет хранится rev\n",
    "group_A = groups_big_active_checks[groups_big_active_checks['grp'] == 'A'][['rev']]\n",
    "group_B = groups_big_active_checks[groups_big_active_checks['grp'] == 'B'][['rev']]\n",
    "\n",
    "# проведем тест на нормальность распределения для А\n",
    "st, p = stats.normaltest(group_A)\n",
    "print('st = ', st)\n",
    "print('p = ', p)\n",
    "\n",
    "# H0 - Данные имеют нормальное распределение\n",
    "# H1 - Данные не имеют нормального распределения\n",
    "\n",
    "if p[0] > 0.05:\n",
    "    print('Данные имеют нормальное распределение для группы A')\n",
    "else: \n",
    "    print('Данные не имеют нормальное распределение для группы A')\n",
    "\n",
    "# проведем тест на нормальность распределения для В\n",
    "st, p = stats.normaltest(group_B)\n",
    "         \n",
    "if p[0] > 0.05:\n",
    "    print('Данные имеют нормальное распределение для группы B')\n",
    "else: \n",
    "    print('Данные не имеют нормальное распределение для группы B')\n"
   ]
  },
  {
   "cell_type": "markdown",
   "metadata": {},
   "source": [
    "Проверим гомогенность дисперсии"
   ]
  },
  {
   "cell_type": "code",
   "execution_count": 31,
   "metadata": {},
   "outputs": [
    {
     "name": "stdout",
     "output_type": "stream",
     "text": [
      "Данные имеют близкие дисперсии по медианному значению\n",
      "Данные имеют близкие дисперсии по среднему значению\n"
     ]
    }
   ],
   "source": [
    "# Воспользуемся критерием Левена, чтобы оценить дисперсии\n",
    "# Проведу тест по медианному значению и среднему\n",
    "\n",
    "# тест по медианному\n",
    "st, p =stats.levene(np.array(group_A)[:,0], np.array(group_B)[:,0], center='median')\n",
    "\n",
    "# H0 - Данные имеют близкие дисперсии по медианному значению\n",
    "# H1 - Данные не имеют близкие дисперсии по медианному значению\n",
    "\n",
    "if p > 0.05:\n",
    "    print('Данные имеют близкие дисперсии по медианному значению')\n",
    "else: \n",
    "    print('Данные не имеют близкие дисперсии по медианному значению')\n",
    "    \n",
    "# H0 - Данные имеют близкие дисперсии по среднему значению\n",
    "# H1 - Данные не имеют близкие дисперсии по среднему значению\n",
    "\n",
    "# тест по среднему\n",
    "st, p =stats.levene(np.array(group_A)[:,0], np.array(group_B)[:,0], center='mean')\n",
    "if p > 0.05:\n",
    "    print('Данные имеют близкие дисперсии по среднему значению')\n",
    "else: \n",
    "    print('Данные не имеют близкие дисперсии по среднему значению')"
   ]
  },
  {
   "cell_type": "markdown",
   "metadata": {},
   "source": [
    "Данные не нормальные, но дисперсии близки, попробую воспользоваться t-тестом и U-критерий Манна-Уитни. Также посмотрю изменение t-теста, если данные логарифмировать\n",
    "\n",
    "Сформируем H0 и H1 для rev (так мы проверим ARPU):\n",
    "\n",
    "H0 - нет статестически важных изменений для rev\n",
    "\n",
    "H1 - есть статестически важные изменения для rev\n"
   ]
  },
  {
   "cell_type": "code",
   "execution_count": 32,
   "metadata": {},
   "outputs": [
    {
     "name": "stdout",
     "output_type": "stream",
     "text": [
      "t_score =  [-3.13377951]\n",
      "p =  [0.0018562]\n",
      "Изменения есть для rev без логарифмирования t-тестом\n",
      "t_score =  [-3.70393618]\n",
      "p =  [0.00024291]\n",
      "Изменения есть для rev c логарифмирования t-тестом\n",
      "U_score =  [9001.]\n",
      "p =  [0.00025114]\n",
      "Изменения есть для rev U-критерием\n"
     ]
    }
   ],
   "source": [
    "# t-test для групп А и В\n",
    "t_score, p = stats.ttest_ind(a=group_A, b=group_B)\n",
    "\n",
    "print('t_score = ', t_score)\n",
    "print('p = ', p)\n",
    "\n",
    "if p > 0.05:\n",
    "    print('Нет изменений для rev без логарифмирования t-тестом')\n",
    "else:\n",
    "    print('Изменения есть для rev без логарифмирования t-тестом')\n",
    "\n",
    "# t-test для групп после логарифмирование (для оценки влияние логарифма на тест)\n",
    "t_score, p = stats.ttest_ind(a=np.log(group_A), b=np.log(group_B))\n",
    "\n",
    "print('t_score = ', t_score)\n",
    "print('p = ', p)\n",
    "if p > 0.05:\n",
    "    print('Нет изменений для rev c логарифмирования t-тестом')\n",
    "else:\n",
    "    print('Изменения есть для rev c логарифмирования t-тестом')\n",
    "\n",
    "# U-критерий, который не сильно чувствителен к выбросам\n",
    "U_score, p = stats.mannwhitneyu(x=np.log(group_A), y=np.log(group_B))\n",
    "\n",
    "print('U_score = ', U_score)\n",
    "print('p = ', p)\n",
    "if p > 0.05:\n",
    "    print('Нет изменений для rev U-критерием')\n",
    "else:\n",
    "    print('Изменения есть для rev U-критерием')"
   ]
  },
  {
   "cell_type": "markdown",
   "metadata": {},
   "source": [
    "Можно судить, что в денежном вопросе изменения есть после появления новой механики. ( У группы B ARPU выше, чем у группы A)"
   ]
  },
  {
   "cell_type": "markdown",
   "metadata": {},
   "source": [
    "Сформируем H0 и H1 для конверсии:\n",
    "\n",
    "H0 - нет статестически важных изменений в переходе людей из одной категории в другую\n",
    "\n",
    "H1 - есть статестически важные изменения в переходе людей из одной категории в другую\n",
    "\n",
    "Для конверсии можно использовать Хи‑Квадрат"
   ]
  },
  {
   "cell_type": "code",
   "execution_count": 33,
   "metadata": {},
   "outputs": [
    {
     "name": "stdout",
     "output_type": "stream",
     "text": [
      "chi2 =  0.0005193339897901735\n",
      "p =  0.9818186617784465\n",
      "Нет изменений для конверсии\n"
     ]
    }
   ],
   "source": [
    "# Формирование датафреймов, в которых хранится конверсия\n",
    "group_A = df_gr[df_gr['grp'] == 'A'][['grp','Cr_na','Cr_ac']]\n",
    "group_B = df_gr[df_gr['grp'] == 'B'][['grp','Cr_na','Cr_ac']]\n",
    "\n",
    "#Проведем тест Хи-квадратом, при это нужно в группах столбец grp сделать индексами\n",
    "chi2, p, dof, ex = stats.chi2_contingency([group_A.set_index('grp'), group_B.set_index('grp')], correction=False)\n",
    "\n",
    "print('chi2 = ', chi2)\n",
    "print('p = ', p)\n",
    "if p > 0.05:\n",
    "    print('Нет изменений для конверсии')\n",
    "else:\n",
    "    print('Изменения есть для конверсии')"
   ]
  },
  {
   "cell_type": "markdown",
   "metadata": {},
   "source": [
    "Проведем исследования для нерасширенных данных"
   ]
  },
  {
   "cell_type": "code",
   "execution_count": 34,
   "metadata": {},
   "outputs": [],
   "source": [
    "# определим для активного пользователя группу\n",
    "groups_active = pd.merge(active_studs,groups, on = 'id')"
   ]
  },
  {
   "cell_type": "code",
   "execution_count": 35,
   "metadata": {},
   "outputs": [
    {
     "data": {
      "text/plain": [
       "id     0\n",
       "grp    0\n",
       "dtype: int64"
      ]
     },
     "execution_count": 35,
     "metadata": {},
     "output_type": "execute_result"
    }
   ],
   "source": [
    "# проверим на появление нулевых данных\n",
    "groups_active.isnull().sum()"
   ]
  },
  {
   "cell_type": "code",
   "execution_count": 36,
   "metadata": {},
   "outputs": [],
   "source": [
    "# определим для активного пользователя его прибыль\n",
    "groups_active_checks = pd.merge(groups_active,checks, on = 'id')"
   ]
  },
  {
   "cell_type": "code",
   "execution_count": 37,
   "metadata": {},
   "outputs": [
    {
     "data": {
      "text/plain": [
       "id     0\n",
       "grp    0\n",
       "rev    0\n",
       "dtype: int64"
      ]
     },
     "execution_count": 37,
     "metadata": {},
     "output_type": "execute_result"
    }
   ],
   "source": [
    "# проверим на появление нулевых данных\n",
    "groups_active_checks.isnull().sum()"
   ]
  },
  {
   "cell_type": "code",
   "execution_count": 38,
   "metadata": {},
   "outputs": [],
   "source": [
    "# датафрейм для статистических данных, введем ARPPU\n",
    "df_gr = groups_active_checks.groupby('grp',as_index=False).agg({'rev':'mean'}).rename(columns={'rev':'ARPPU'})\n",
    "\n",
    "# добавим метрику CRna\n",
    "df_na = (groups_active.groupby('grp').agg({'id':'count'}) / groups.groupby('grp').agg({'id':'count'})).reset_index().rename(columns={'id':'Cr_na'})\n",
    "df_gr = pd.merge(df_gr,df_na,on = 'grp')\n",
    "\n",
    "# добавим метрику CRac\n",
    "df_ac = (groups_active_checks.groupby('grp').agg({'id':'count'}) / groups_active.groupby('grp').agg({'id':'count'})).reset_index().rename(columns={'id':'Cr_ac'})\n",
    "df_gr = pd.merge(df_gr,df_ac,on = 'grp')"
   ]
  },
  {
   "cell_type": "code",
   "execution_count": 39,
   "metadata": {},
   "outputs": [
    {
     "data": {
      "text/html": [
       "<div>\n",
       "<style scoped>\n",
       "    .dataframe tbody tr th:only-of-type {\n",
       "        vertical-align: middle;\n",
       "    }\n",
       "\n",
       "    .dataframe tbody tr th {\n",
       "        vertical-align: top;\n",
       "    }\n",
       "\n",
       "    .dataframe thead th {\n",
       "        text-align: right;\n",
       "    }\n",
       "</style>\n",
       "<table border=\"1\" class=\"dataframe\">\n",
       "  <thead>\n",
       "    <tr style=\"text-align: right;\">\n",
       "      <th></th>\n",
       "      <th>grp</th>\n",
       "      <th>ARPPU</th>\n",
       "      <th>Cr_na</th>\n",
       "      <th>Cr_ac</th>\n",
       "    </tr>\n",
       "  </thead>\n",
       "  <tbody>\n",
       "    <tr>\n",
       "      <th>0</th>\n",
       "      <td>A</td>\n",
       "      <td>933.589744</td>\n",
       "      <td>0.104628</td>\n",
       "      <td>0.050814</td>\n",
       "    </tr>\n",
       "    <tr>\n",
       "      <th>1</th>\n",
       "      <td>B</td>\n",
       "      <td>1255.827487</td>\n",
       "      <td>0.113571</td>\n",
       "      <td>0.046077</td>\n",
       "    </tr>\n",
       "  </tbody>\n",
       "</table>\n",
       "</div>"
      ],
      "text/plain": [
       "  grp        ARPPU     Cr_na     Cr_ac\n",
       "0   A   933.589744  0.104628  0.050814\n",
       "1   B  1255.827487  0.113571  0.046077"
      ]
     },
     "execution_count": 39,
     "metadata": {},
     "output_type": "execute_result"
    }
   ],
   "source": [
    "df_gr"
   ]
  },
  {
   "cell_type": "code",
   "execution_count": 40,
   "metadata": {},
   "outputs": [
    {
     "data": {
      "text/plain": [
       "<seaborn.axisgrid.FacetGrid at 0x7f22491fad68>"
      ]
     },
     "execution_count": 40,
     "metadata": {},
     "output_type": "execute_result"
    },
    {
     "data": {
      "image/png": "[encoded data removed]",
      "text/plain": [
       "<Figure size 360x360 with 1 Axes>"
      ]
     },
     "metadata": {
      "needs_background": "light"
     },
     "output_type": "display_data"
    }
   ],
   "source": [
    "# посмотрим сколько в группе А и В\n",
    "sns.displot(groups_active_checks.grp)"
   ]
  },
  {
   "cell_type": "code",
   "execution_count": 41,
   "metadata": {},
   "outputs": [
    {
     "data": {
      "text/plain": [
       "<seaborn.axisgrid.FacetGrid at 0x7f22491eada0>"
      ]
     },
     "execution_count": 41,
     "metadata": {},
     "output_type": "execute_result"
    },
    {
     "data": {
      "image/png": "[encoded data removed]",
      "text/plain": [
       "<Figure size 402.875x360 with 1 Axes>"
      ]
     },
     "metadata": {
      "needs_background": "light"
     },
     "output_type": "display_data"
    }
   ],
   "source": [
    "# посмотрим распределение прибыли, оказывается есть выброс для группы B\n",
    "sns.displot(data=groups_active_checks, x=\"rev\", hue=\"grp\")"
   ]
  },
  {
   "cell_type": "markdown",
   "metadata": {},
   "source": [
    "Проверим распределение на нормальность"
   ]
  },
  {
   "cell_type": "code",
   "execution_count": 42,
   "metadata": {},
   "outputs": [
    {
     "name": "stdout",
     "output_type": "stream",
     "text": [
      "st =  [30.37841964]\n",
      "p =  [2.53168688e-07]\n",
      "Данные не имеют нормальное распределение для группы A\n",
      "Данные не имеют нормальное распределение для группы B\n"
     ]
    }
   ],
   "source": [
    "# сделаем датафреймы с группами, где будет хранится rev\n",
    "group_A = groups_active_checks[groups_active_checks['grp'] == 'A'][['rev']]\n",
    "group_B = groups_active_checks[groups_active_checks['grp'] == 'B'][['rev']]\n",
    "\n",
    "# проведем тест на нормальность распределения для А\n",
    "st, p = stats.normaltest(group_A)\n",
    "print('st = ', st)\n",
    "print('p = ', p)\n",
    "\n",
    "# H0 - Данные имеют нормальное распределение\n",
    "# H1 - Данные не имеют нормального распределения\n",
    "\n",
    "if p[0] > 0.05:\n",
    "    print('Данные имеют нормальное распределение для группы A')\n",
    "else: \n",
    "    print('Данные не имеют нормальное распределение для группы A')\n",
    "\n",
    "# проведем тест на нормальность распределения для В\n",
    "st, p = stats.normaltest(group_B)\n",
    "         \n",
    "if p[0] > 0.05:\n",
    "    print('Данные имеют нормальное распределение для группы B')\n",
    "else: \n",
    "    print('Данные не имеют нормальное распределение для группы B')"
   ]
  },
  {
   "cell_type": "markdown",
   "metadata": {},
   "source": [
    "Проверим гомогенность дисперсии"
   ]
  },
  {
   "cell_type": "code",
   "execution_count": 43,
   "metadata": {},
   "outputs": [
    {
     "name": "stdout",
     "output_type": "stream",
     "text": [
      "Данные имеют близкие дисперсии по медианному значению\n",
      "Данные имеют близкие дисперсии по среднему значению\n"
     ]
    }
   ],
   "source": [
    "# Воспользуемся критерием Левена, чтобы оценить дисперсии\n",
    "# Проведу тест по медианному значению и среднему\n",
    "\n",
    "# тест по медианному\n",
    "st, p =stats.levene(np.array(group_A)[:,0], np.array(group_B)[:,0], center='median')\n",
    "\n",
    "# H0 - Данные имеют близкие дисперсии по медианному значению\n",
    "# H1 - Данные не имеют близкие дисперсии по медианному значению\n",
    "\n",
    "if p > 0.05:\n",
    "    print('Данные имеют близкие дисперсии по медианному значению')\n",
    "else: \n",
    "    print('Данные не имеют близкие дисперсии по медианному значению')\n",
    "    \n",
    "# H0 - Данные имеют близкие дисперсии по среднему значению\n",
    "# H1 - Данные не имеют близкие дисперсии по среднему значению\n",
    "\n",
    "# тест по среднему\n",
    "st, p =stats.levene(np.array(group_A)[:,0], np.array(group_B)[:,0], center='mean')\n",
    "if p > 0.05:\n",
    "    print('Данные имеют близкие дисперсии по среднему значению')\n",
    "else: \n",
    "    print('Данные не имеют близкие дисперсии по среднему значению')"
   ]
  },
  {
   "cell_type": "markdown",
   "metadata": {},
   "source": [
    "Данные не нормальные, но дисперсии близки, попробую воспользоваться t-тестом и U-критерий Манна-Уитни. Также посмотрю изменение t-теста, если данные логарифмировать\n",
    "\n",
    "Сформируем H0 и H1 для rev (так мы проверим ARPU):\n",
    "\n",
    "H0 - нет статестически важных изменений для rev\n",
    "\n",
    "H1 - есть статестически важные изменения для rev"
   ]
  },
  {
   "cell_type": "code",
   "execution_count": 44,
   "metadata": {},
   "outputs": [
    {
     "name": "stdout",
     "output_type": "stream",
     "text": [
      "t_score =  [-3.11143898]\n",
      "p =  [0.00199918]\n",
      "Изменения есть для rev без логарифмирования t-тестом\n",
      "t_score =  [-3.68042029]\n",
      "p =  [0.0002657]\n",
      "Изменения есть для rev c логарифмирования t-тестом\n",
      "U_score =  [8990.]\n",
      "p =  [0.00027324]\n",
      "Изменения есть для rev U-критерием\n"
     ]
    }
   ],
   "source": [
    "# t-test для групп А и В\n",
    "t_score, p = stats.ttest_ind(a=group_A, b=group_B)\n",
    "\n",
    "print('t_score = ', t_score)\n",
    "print('p = ', p)\n",
    "\n",
    "if p > 0.05:\n",
    "    print('Нет изменений для rev без логарифмирования t-тестом')\n",
    "else:\n",
    "    print('Изменения есть для rev без логарифмирования t-тестом')\n",
    "\n",
    "# t-test для групп после логарифмирование (для оценки влияние логарифма на тест)\n",
    "t_score, p = stats.ttest_ind(a=np.log(group_A), b=np.log(group_B))\n",
    "\n",
    "print('t_score = ', t_score)\n",
    "print('p = ', p)\n",
    "if p > 0.05:\n",
    "    print('Нет изменений для rev c логарифмирования t-тестом')\n",
    "else:\n",
    "    print('Изменения есть для rev c логарифмирования t-тестом')\n",
    "\n",
    "# U-критерий, который не сильно чувствителен к выбросам\n",
    "U_score, p = stats.mannwhitneyu(x=np.log(group_A), y=np.log(group_B))\n",
    "\n",
    "print('U_score = ', U_score)\n",
    "print('p = ', p)\n",
    "if p > 0.05:\n",
    "    print('Нет изменений для rev U-критерием')\n",
    "else:\n",
    "    print('Изменения есть для rev U-критерием')"
   ]
  },
  {
   "cell_type": "markdown",
   "metadata": {},
   "source": [
    "Сформируем H0 и H1 для конверсии:\n",
    "\n",
    "H0 - нет статестически важных изменений в переходе людей из одной категории в другую\n",
    "\n",
    "H1 - есть статестически важные изменения в переходе людей из одной категории в другую\n",
    "\n",
    "Для конверсии можно использовать Хи‑Квадрат"
   ]
  },
  {
   "cell_type": "code",
   "execution_count": 45,
   "metadata": {},
   "outputs": [
    {
     "name": "stdout",
     "output_type": "stream",
     "text": [
      "chi2 =  0.0005421082060230249\n",
      "p =  0.9814243587713799\n",
      "Нет изменений для конверсии\n"
     ]
    }
   ],
   "source": [
    "# Формирование датафреймов, в которых хранится конверсия\n",
    "group_A = df_gr[df_gr['grp'] == 'A'][['grp','Cr_na','Cr_ac']]\n",
    "group_B = df_gr[df_gr['grp'] == 'B'][['grp','Cr_na','Cr_ac']]\n",
    "\n",
    "#Проведем тест Хи-квадратом, при это нужно в группах столбец grp сделать индексами\n",
    "chi2, p, dof, ex = stats.chi2_contingency([group_A.set_index('grp'), group_B.set_index('grp')], correction=False)\n",
    "\n",
    "print('chi2 = ', chi2)\n",
    "print('p = ', p)\n",
    "if p > 0.05:\n",
    "    print('Нет изменений для конверсии')\n",
    "else:\n",
    "    print('Изменения есть для конверсии')"
   ]
  },
  {
   "cell_type": "markdown",
   "metadata": {},
   "source": [
    "Нет разницы между обычным и расширенным датафреймом.\n",
    "\n",
    "Можно сделать вывод, что прибыль от новой механики оплаты увеличилась, но нет влияние на переход людей из одной категории в другую"
   ]
  },
  {
   "cell_type": "markdown",
   "metadata": {},
   "source": [
    "Задание 2. SQL\n",
    "2.1 Очень усердные ученики.\n",
    "\n",
    "2.1.1 Условие\n",
    "\n",
    "Образовательные курсы состоят из различных уроков, каждый из которых состоит из нескольких маленьких заданий. Каждое такое маленькое задание называется \"горошиной\".\n",
    "\n",
    "Назовём очень усердным учеником того пользователя, который хотя бы раз за текущий месяц правильно решил 20 горошин.\n",
    "\n",
    "2.1.2 Задача\n",
    "\n",
    "Дана таблица default.peas:\n",
    "\n",
    "st_id - int - ID ученика\n",
    "\n",
    "timest - timestamp - Время решения карточки\n",
    "\n",
    "correct - bool - Правильно ли решена горошина?\n",
    "\n",
    "subject - text - Дисциплина, в которой находится горошина\n",
    "\n",
    "\n",
    "Необходимо написать оптимальный запрос, который даст информацию о количестве очень усердных студентов.NB! Под усердным студентом мы понимаем студента, который правильно решил 20 задач за текущий месяц.\n",
    "\n",
    "2.2 Оптимизация воронки\n",
    "\n",
    "2.2.1 Условие\n",
    "\n",
    "Образовательная платформа предлагает пройти студентам курсы по модели trial: студент может решить бесплатно лишь 30 горошин в день. Для неограниченного количества заданий в определенной дисциплине студенту необходимо приобрести полный доступ. Команда провела эксперимент, где был протестирован новый экран оплаты.\n",
    "\n",
    "2.2.2 Задача\n",
    "\n",
    "Дана таблицы: default.peas (см. выше), default.studs:\n",
    "\n",
    "st_id - int - ID ученика\n",
    "\n",
    "test_grp - text - Метка ученика в данном эксперименте\n",
    "\n",
    "и default.final_project_check:\n",
    "\n",
    "st_id - int - ID ученика\n",
    "\n",
    "sale_time - timestamp - Время покупки\n",
    "\n",
    "money - int - Цена, по которой приобрели данный курс\n",
    "\n",
    "subject - text - Дисциплина, в которой находится горошина\n",
    "\n",
    "Необходимо в одном запросе выгрузить следующую информацию о группах пользователей:\n",
    "\n",
    "1)ARPU \n",
    "\n",
    "2)ARPAU \n",
    "\n",
    "3)CR в покупку \n",
    "\n",
    "4)СR активного пользователя в покупку \n",
    "\n",
    "5)CR пользователя из активности по математике (subject = ’math’) в покупку курса по математике\n",
    "\n",
    "6)ARPU считается относительно всех пользователей, попавших в группы.\n",
    "\n",
    "Активным считается пользователь, за все время решивший больше 10 задач правильно в любых дисциплинах.\n",
    "\n",
    "Активным по математике считается пользователь, за все время решивший 2 или больше задач правильно по математике."
   ]
  },
  {
   "cell_type": "code",
   "execution_count": 46,
   "metadata": {},
   "outputs": [],
   "source": [
    "import pandahouse as ph\n",
    "connection_default = {'host': 'https://clickhouse.lab.karpov.courses',\n",
    "                      'database':'default',\n",
    "                      'user':'student', \n",
    "                      'password':'dpo_python_2020'\n",
    "                     }"
   ]
  },
  {
   "cell_type": "code",
   "execution_count": 47,
   "metadata": {},
   "outputs": [],
   "source": [
    "q = ''' \n",
    "Select \n",
    "    st_id,\n",
    "    toDate(timest) AS Date,\n",
    "    correct,\n",
    "    subject\n",
    "From {db}.peas\n",
    "'''\n",
    "#SQL запрос, чтобы посмотреть данные и изучить их немного"
   ]
  },
  {
   "cell_type": "code",
   "execution_count": 48,
   "metadata": {},
   "outputs": [],
   "source": [
    "df_data = ph.read_clickhouse(query=q, connection=connection_default) # загрузим данные"
   ]
  },
  {
   "cell_type": "code",
   "execution_count": 49,
   "metadata": {},
   "outputs": [
    {
     "data": {
      "text/plain": [
       "st_id                   996911\n",
       "Date       2021-10-31 00:00:00\n",
       "correct                      1\n",
       "subject          Vizualization\n",
       "dtype: object"
      ]
     },
     "execution_count": 49,
     "metadata": {},
     "output_type": "execute_result"
    }
   ],
   "source": [
    "df_data.max() # проверим максимальное значение даты"
   ]
  },
  {
   "cell_type": "code",
   "execution_count": 50,
   "metadata": {},
   "outputs": [
    {
     "data": {
      "text/plain": [
       "st_id                   100379\n",
       "Date       2021-10-30 00:00:00\n",
       "correct                      0\n",
       "subject                   Math\n",
       "dtype: object"
      ]
     },
     "execution_count": 50,
     "metadata": {},
     "output_type": "execute_result"
    }
   ],
   "source": [
    "df_data.min() # проверим максимальное значение даты"
   ]
  },
  {
   "cell_type": "markdown",
   "metadata": {},
   "source": [
    "Месяц у нас один, но в задании сказано, что нужно оптимальный запрос, следовательно, нужно учесть разные месяца"
   ]
  },
  {
   "cell_type": "code",
   "execution_count": 51,
   "metadata": {},
   "outputs": [],
   "source": [
    "q = '''\n",
    "Select\n",
    "    Date_,\n",
    "    subject,\n",
    "    count(st_id) as Count_st_correct\n",
    "From\n",
    "    (Select \n",
    "        st_id,\n",
    "        formatDateTime(toDate(timest), '%Y-%m') AS Date_,\n",
    "        sum(correct) as Count_correct,\n",
    "        subject\n",
    "    From {db}.peas\n",
    "    Group by st_id, Date_, subject\n",
    "    HAVING Count_correct>=20)\n",
    "Group by Date_, subject\n",
    "'''\n",
    "# SQL запрос, где сначала мы группируем данные о студенте, дате и дисциплине,\n",
    "#при этом поставим условие, чтобы верных было больше 20\n",
    "# потом проведем группировку по дате и дисциплине, и посчитаем количество людей"
   ]
  },
  {
   "cell_type": "code",
   "execution_count": 52,
   "metadata": {},
   "outputs": [],
   "source": [
    "df_count_st_correct = ph.read_clickhouse(query=q, connection=connection_default)"
   ]
  },
  {
   "cell_type": "code",
   "execution_count": 53,
   "metadata": {},
   "outputs": [
    {
     "data": {
      "text/html": [
       "<div>\n",
       "<style scoped>\n",
       "    .dataframe tbody tr th:only-of-type {\n",
       "        vertical-align: middle;\n",
       "    }\n",
       "\n",
       "    .dataframe tbody tr th {\n",
       "        vertical-align: top;\n",
       "    }\n",
       "\n",
       "    .dataframe thead th {\n",
       "        text-align: right;\n",
       "    }\n",
       "</style>\n",
       "<table border=\"1\" class=\"dataframe\">\n",
       "  <thead>\n",
       "    <tr style=\"text-align: right;\">\n",
       "      <th></th>\n",
       "      <th>Date_</th>\n",
       "      <th>subject</th>\n",
       "      <th>Count_st_correct</th>\n",
       "    </tr>\n",
       "  </thead>\n",
       "  <tbody>\n",
       "    <tr>\n",
       "      <th>0</th>\n",
       "      <td>2021-10</td>\n",
       "      <td>Math</td>\n",
       "      <td>18</td>\n",
       "    </tr>\n",
       "    <tr>\n",
       "      <th>1</th>\n",
       "      <td>2021-10</td>\n",
       "      <td>Python</td>\n",
       "      <td>22</td>\n",
       "    </tr>\n",
       "    <tr>\n",
       "      <th>2</th>\n",
       "      <td>2021-10</td>\n",
       "      <td>Statistics</td>\n",
       "      <td>14</td>\n",
       "    </tr>\n",
       "    <tr>\n",
       "      <th>3</th>\n",
       "      <td>2021-10</td>\n",
       "      <td>Vizualization</td>\n",
       "      <td>23</td>\n",
       "    </tr>\n",
       "    <tr>\n",
       "      <th>4</th>\n",
       "      <td>2021-10</td>\n",
       "      <td>Theory of probability</td>\n",
       "      <td>16</td>\n",
       "    </tr>\n",
       "  </tbody>\n",
       "</table>\n",
       "</div>"
      ],
      "text/plain": [
       "     Date_                subject  Count_st_correct\n",
       "0  2021-10                   Math                18\n",
       "1  2021-10                 Python                22\n",
       "2  2021-10             Statistics                14\n",
       "3  2021-10          Vizualization                23\n",
       "4  2021-10  Theory of probability                16"
      ]
     },
     "execution_count": 53,
     "metadata": {},
     "output_type": "execute_result"
    }
   ],
   "source": [
    "df_count_st_correct"
   ]
  },
  {
   "cell_type": "code",
   "execution_count": 54,
   "metadata": {},
   "outputs": [],
   "source": [
    "q = '''\n",
    "SELECT\n",
    "    arpu.test_grp as test_grp,\n",
    "    arpu.ARPU as ARPU,\n",
    "    arpau.ARPAU as ARPAU,\n",
    "    cr1.CR as CR_ch,\n",
    "    cr2.CR as CR_act_ch,\n",
    "    cr3.CR as CR_act_math_ch\n",
    "\n",
    "FROM \n",
    "(\n",
    "    SELECT \n",
    "        sum(r.money)/count(l.st_id) as ARPU,\n",
    "        lr.test_grp as test_grp\n",
    "    FROM {db}.peas as l\n",
    "    JOIN {db}.studs as lr ON l.st_id = lr.st_id\n",
    "    LEFT JOIN {db}.final_project_check as r ON lr.st_id = r.st_id\n",
    "    GROUP BY test_grp\n",
    ") as arpu\n",
    "\n",
    "JOIN \n",
    "(\n",
    "    SELECT \n",
    "        sum(money)/count(st_id) as ARPAU,\n",
    "        test_grp\n",
    "    FROM\n",
    "    (\n",
    "        SELECT \n",
    "            l.st_id as st_id,\n",
    "            sum(l.correct) as count_correct,\n",
    "            lr.test_grp as test_grp,\n",
    "            sum(r.money) as money\n",
    "        FROM {db}.peas as l\n",
    "        JOIN {db}.studs as lr ON l.st_id = lr.st_id\n",
    "        LEFT JOIN {db}.final_project_check as r ON lr.st_id = r.st_id\n",
    "        GROUP BY st_id, test_grp\n",
    "        HAVING count_correct > 10\n",
    "    )\n",
    "    GROUP BY test_grp\n",
    ") as arpau ON arpu.test_grp = arpau.test_grp\n",
    "\n",
    "JOIN \n",
    "(\n",
    "    SELECT \n",
    "        sum(case when toDateTime(sale_time) != '1970-01-01 03:00:00' THEN 1 ELSE 0 END)/sum(case when toDateTime(timest) != '1970-01-01 03:00:00' THEN 1 ELSE 0 END) AS CR,\n",
    "        test_grp\n",
    "    FROM \n",
    "    (\n",
    "        SELECT \n",
    "            max(toDateTime(r.sale_time)) as sale_time,\n",
    "            max(toDateTime(l.timest)) as timest, \n",
    "            l.st_id as st_id,\n",
    "            lr.test_grp as test_grp\n",
    "        FROM default.peas as l\n",
    "        JOIN default.studs as lr ON l.st_id = lr.st_id\n",
    "        LEFT JOIN default.final_project_check as r ON lr.st_id = r.st_id\n",
    "        GROUP BY st_id, test_grp\n",
    "    )\n",
    "    GROUP BY test_grp\n",
    ") as cr1 ON arpu.test_grp = cr1.test_grp\n",
    "\n",
    "JOIN \n",
    "(\n",
    "    SELECT \n",
    "        sum(case when sale_time != '1970-01-01 03:00:00' THEN 1 ELSE 0 END)/sum(case when timest != '1970-01-01 03:00:00' THEN 1 ELSE 0 END) AS CR,\n",
    "        test_grp\n",
    "    FROM \n",
    "    (\n",
    "        SELECT \n",
    "            l.st_id as st_id,\n",
    "            max(toDateTime(l.timest)) AS timest,\n",
    "            sum(l.correct) as count_correct,\n",
    "            lr.test_grp as test_grp,\n",
    "            min(toDateTime(r.sale_time)) as sale_time\n",
    "        FROM {db}.peas as l\n",
    "        JOIN {db}.studs as lr ON l.st_id = lr.st_id\n",
    "        LEFT JOIN {db}.final_project_check as r ON lr.st_id = r.st_id\n",
    "        WHERE r.sale_time > l.timest OR r.sale_time == '1970-01-01 03:00:00'\n",
    "        GROUP BY st_id, test_grp\n",
    "        HAVING count_correct > 10\n",
    "    )\n",
    "    GROUP BY test_grp\n",
    ") as cr2 ON arpu.test_grp = cr2.test_grp\n",
    "\n",
    "JOIN \n",
    "(\n",
    "    SELECT \n",
    "        sum(case when sale_time != '1970-01-01 03:00:00' THEN 1 ELSE 0 END)/sum(case when timest != '1970-01-01 03:00:00' THEN 1 ELSE 0 END) AS CR,\n",
    "        test_grp\n",
    "    FROM \n",
    "    (\n",
    "        SELECT \n",
    "            l.st_id as st_id,\n",
    "            max(toDateTime(l.timest)) AS timest,\n",
    "            sum(l.correct) as count_correct,\n",
    "            lr.test_grp as test_grp,\n",
    "            min(toDateTime(r.sale_time)) as sale_time\n",
    "        FROM {db}.peas as l\n",
    "        JOIN {db}.studs as lr ON l.st_id = lr.st_id\n",
    "        LEFT JOIN {db}.final_project_check as r ON lr.st_id = r.st_id\n",
    "        WHERE (r.sale_time > l.timest OR r.sale_time == '1970-01-01 03:00:00') AND l.subject = 'Math'\n",
    "        GROUP BY st_id, test_grp\n",
    "        HAVING count_correct >= 2\n",
    "    )\n",
    "    GROUP BY test_grp\n",
    ") as cr3 ON arpu.test_grp = cr3.test_grp\n",
    "'''\n",
    "# SQL запрос, который составит из 5 JOIN\n",
    "# 1 JOIN считает ARPU, объединяя таблицы, а потом разделили по группам, а далее посчитали метрику\n",
    "# 2 JOIN считает ARPAU, объединяя таблицу, а потом разделяя по группам и проведя фильтр по количеству пройденных ответов,\n",
    "# а далее посчитав метрику\n",
    "# 3 JOIN считает CR_ch, объединяя таблицу, а потом разделяя на группы при этом учитываем, что отношения id к времени равно 1:т\n",
    "# поэтому вы агрегируем так, чтобы было одно время, а после используем время для подсчета количество оплат \n",
    "# и количество пройденный занятий, и считаем метрику\n",
    "# 4 JOIN похож на 3 JOIN, но вводится оценка людей по количеству пройденных занятий, для этого мы агрегируем и фильтруем\n",
    "# по количеству успешно пройденных тестов\n",
    "# 5 JOIN похож на 4 JOIN, но мы включаем фильт по предмету математика, а также изменили количество успешно пройденных занятий"
   ]
  },
  {
   "cell_type": "code",
   "execution_count": 55,
   "metadata": {},
   "outputs": [],
   "source": [
    "df_stat = ph.read_clickhouse(query=q, connection=connection_default)"
   ]
  },
  {
   "cell_type": "code",
   "execution_count": 56,
   "metadata": {},
   "outputs": [
    {
     "data": {
      "text/html": [
       "<div>\n",
       "<style scoped>\n",
       "    .dataframe tbody tr th:only-of-type {\n",
       "        vertical-align: middle;\n",
       "    }\n",
       "\n",
       "    .dataframe tbody tr th {\n",
       "        vertical-align: top;\n",
       "    }\n",
       "\n",
       "    .dataframe thead th {\n",
       "        text-align: right;\n",
       "    }\n",
       "</style>\n",
       "<table border=\"1\" class=\"dataframe\">\n",
       "  <thead>\n",
       "    <tr style=\"text-align: right;\">\n",
       "      <th></th>\n",
       "      <th>test_grp</th>\n",
       "      <th>ARPU</th>\n",
       "      <th>ARPAU</th>\n",
       "      <th>CR_ch</th>\n",
       "      <th>CR_act_ch</th>\n",
       "      <th>CR_act_math_ch</th>\n",
       "    </tr>\n",
       "  </thead>\n",
       "  <tbody>\n",
       "    <tr>\n",
       "      <th>0</th>\n",
       "      <td>control</td>\n",
       "      <td>8106.849315</td>\n",
       "      <td>4.516535e+05</td>\n",
       "      <td>0.090909</td>\n",
       "      <td>0.058333</td>\n",
       "      <td>0.083333</td>\n",
       "    </tr>\n",
       "    <tr>\n",
       "      <th>1</th>\n",
       "      <td>pilot</td>\n",
       "      <td>23572.618507</td>\n",
       "      <td>1.587268e+06</td>\n",
       "      <td>0.209790</td>\n",
       "      <td>0.228261</td>\n",
       "      <td>0.142857</td>\n",
       "    </tr>\n",
       "  </tbody>\n",
       "</table>\n",
       "</div>"
      ],
      "text/plain": [
       "  test_grp          ARPU         ARPAU     CR_ch  CR_act_ch  CR_act_math_ch\n",
       "0  control   8106.849315  4.516535e+05  0.090909   0.058333        0.083333\n",
       "1    pilot  23572.618507  1.587268e+06  0.209790   0.228261        0.142857"
      ]
     },
     "execution_count": 56,
     "metadata": {},
     "output_type": "execute_result"
    }
   ],
   "source": [
    "df_stat"
   ]
  },
  {
   "cell_type": "markdown",
   "metadata": {},
   "source": [
    "Задание 3. Python\n",
    "\n",
    "3.1 Задача\n",
    "\n",
    "Реализуйте функцию, которая будет автоматически подгружать информацию из дополнительного файла groups_add.csv (заголовки могут отличаться) и на основании дополнительных параметров пересчитывать метрики.\n",
    "\n",
    "Реализуйте функцию, которая будет строить графики по получаемым метрикам."
   ]
  },
  {
   "cell_type": "code",
   "execution_count": 57,
   "metadata": {},
   "outputs": [],
   "source": [
    "def add_data(groups, groups_add):\n",
    "    if len(groups_add.columns) == 2 and len(groups.columns) == 2: # проверим, чтобы было две колонки в датафрейме groups_add\n",
    "        k = 0 # счётчик правильных типов данных в датафрейме groups_add\n",
    "        z = 0 # счётчик правильных типов данных в датафрейме groups\n",
    "        for column in groups_add.columns: # перебираем все колонки\n",
    "            if groups_add[column].dtype == 'int64': # ищем колонку с типо int\n",
    "                int_add = column # запоминаем название колонки с int, там предположительно id\n",
    "                k += 1\n",
    "            elif groups_add[column].dtype == 'object': # ищем колонку с типо object, там предположительно группы\n",
    "                str_add = column # запоминаем название колонки\n",
    "                k += 1\n",
    "            else: print('В датафрейме groups_add неверные типы данных, id должен быть int64, а grp должен быть object')\n",
    "        for column in groups.columns: # перебираем все колонки\n",
    "            if groups[column].dtype == 'int64': # ищем колонку с типо int\n",
    "                int_gr = column # запоминаем название колонки с int, там предположительно id\n",
    "                z += 1\n",
    "            elif groups[column].dtype == 'object': # ищем колонку с типо object, там предположительно группы\n",
    "                str_gr = column # запоминаем название колонки\n",
    "                z += 1\n",
    "            else: print('В датафрейме groups неверные типы данных, id должен быть int64, а grp должен быть object')\n",
    "        \n",
    "        if k == 2 and z == 2: \n",
    "            if set(groups_add[str_add].unique()) == set(groups[str_gr].unique()): # проверка на правильные названия групп \n",
    "                # переименнуем колонку с int в id\n",
    "                groups_add = groups_add.rename(columns={int_add:'id'})\n",
    "                groups = groups.rename(columns={int_gr:'id'})\n",
    "                \n",
    "                # переименнуем колонку с object в grp\n",
    "                groups_add = groups_add.rename(columns={str_add:'grp'})\n",
    "                groups = groups.rename(columns={str_gr:'grp'})\n",
    "\n",
    "                # объединяем, в groups по идее должны быть id и grp\n",
    "                groups_big = pd.concat([groups,groups_add]) \n",
    "                return groups_big # возвращаем датафрейм\n",
    "            else: print(\"В датафрейме неверные данные о группах\")\n",
    "    else: print(\"groups_add и groups должен иметь две колонки\")\n",
    "    return None"
   ]
  },
  {
   "cell_type": "code",
   "execution_count": 58,
   "metadata": {},
   "outputs": [
    {
     "data": {
      "text/html": [
       "<div>\n",
       "<style scoped>\n",
       "    .dataframe tbody tr th:only-of-type {\n",
       "        vertical-align: middle;\n",
       "    }\n",
       "\n",
       "    .dataframe tbody tr th {\n",
       "        vertical-align: top;\n",
       "    }\n",
       "\n",
       "    .dataframe thead th {\n",
       "        text-align: right;\n",
       "    }\n",
       "</style>\n",
       "<table border=\"1\" class=\"dataframe\">\n",
       "  <thead>\n",
       "    <tr style=\"text-align: right;\">\n",
       "      <th></th>\n",
       "      <th>id</th>\n",
       "      <th>grp</th>\n",
       "    </tr>\n",
       "  </thead>\n",
       "  <tbody>\n",
       "    <tr>\n",
       "      <th>0</th>\n",
       "      <td>1489</td>\n",
       "      <td>B</td>\n",
       "    </tr>\n",
       "    <tr>\n",
       "      <th>1</th>\n",
       "      <td>1627</td>\n",
       "      <td>A</td>\n",
       "    </tr>\n",
       "    <tr>\n",
       "      <th>2</th>\n",
       "      <td>1768</td>\n",
       "      <td>B</td>\n",
       "    </tr>\n",
       "    <tr>\n",
       "      <th>3</th>\n",
       "      <td>1783</td>\n",
       "      <td>B</td>\n",
       "    </tr>\n",
       "    <tr>\n",
       "      <th>4</th>\n",
       "      <td>1794</td>\n",
       "      <td>A</td>\n",
       "    </tr>\n",
       "    <tr>\n",
       "      <th>...</th>\n",
       "      <td>...</td>\n",
       "      <td>...</td>\n",
       "    </tr>\n",
       "    <tr>\n",
       "      <th>87</th>\n",
       "      <td>200247820</td>\n",
       "      <td>B</td>\n",
       "    </tr>\n",
       "    <tr>\n",
       "      <th>88</th>\n",
       "      <td>201032527</td>\n",
       "      <td>B</td>\n",
       "    </tr>\n",
       "    <tr>\n",
       "      <th>89</th>\n",
       "      <td>201067612</td>\n",
       "      <td>B</td>\n",
       "    </tr>\n",
       "    <tr>\n",
       "      <th>90</th>\n",
       "      <td>201067653</td>\n",
       "      <td>B</td>\n",
       "    </tr>\n",
       "    <tr>\n",
       "      <th>91</th>\n",
       "      <td>201067659</td>\n",
       "      <td>B</td>\n",
       "    </tr>\n",
       "  </tbody>\n",
       "</table>\n",
       "<p>74576 rows × 2 columns</p>\n",
       "</div>"
      ],
      "text/plain": [
       "           id grp\n",
       "0        1489   B\n",
       "1        1627   A\n",
       "2        1768   B\n",
       "3        1783   B\n",
       "4        1794   A\n",
       "..        ...  ..\n",
       "87  200247820   B\n",
       "88  201032527   B\n",
       "89  201067612   B\n",
       "90  201067653   B\n",
       "91  201067659   B\n",
       "\n",
       "[74576 rows x 2 columns]"
      ]
     },
     "execution_count": 58,
     "metadata": {},
     "output_type": "execute_result"
    }
   ],
   "source": [
    "add_data(groups, groups_add)"
   ]
  },
  {
   "cell_type": "code",
   "execution_count": 59,
   "metadata": {},
   "outputs": [],
   "source": [
    "def plt_data(groups):\n",
    "    if 'grp' in list(groups.columns):\n",
    "        # берем все колонки, кроме groups\n",
    "        for col in groups.columns:\n",
    "            if col != 'grp':\n",
    "                # Построение графика с использованием переменной 'grp' на оси x\n",
    "                sns.barplot(x='grp', y=col, data=groups)\n",
    "                plt.show()\n",
    "    else: print('Нет столбца групп')"
   ]
  },
  {
   "cell_type": "code",
   "execution_count": 60,
   "metadata": {},
   "outputs": [
    {
     "data": {
      "image/png": "[encoded data removed]",
      "text/plain": [
       "<Figure size 432x288 with 1 Axes>"
      ]
     },
     "metadata": {
      "needs_background": "light"
     },
     "output_type": "display_data"
    },
    {
     "data": {
      "image/png": "[encoded data removed]",
      "text/plain": [
       "<Figure size 432x288 with 1 Axes>"
      ]
     },
     "metadata": {
      "needs_background": "light"
     },
     "output_type": "display_data"
    },
    {
     "data": {
      "image/png": "[encoded data removed]",
      "text/plain": [
       "<Figure size 432x288 with 1 Axes>"
      ]
     },
     "metadata": {
      "needs_background": "light"
     },
     "output_type": "display_data"
    }
   ],
   "source": [
    "plt_data(df_gr)"
   ]
  }
 ],
 "metadata": {
  "kernelspec": {
   "display_name": "Python 3",
   "language": "python",
   "name": "python3"
  },
  "language_info": {
   "codemirror_mode": {
    "name": "ipython",
    "version": 3
   },
   "file_extension": ".py",
   "mimetype": "text/x-python",
   "name": "python",
   "nbconvert_exporter": "python",
   "pygments_lexer": "ipython3",
   "version": "3.7.3"
  }
 },
 "nbformat": 4,
 "nbformat_minor": 4
}
